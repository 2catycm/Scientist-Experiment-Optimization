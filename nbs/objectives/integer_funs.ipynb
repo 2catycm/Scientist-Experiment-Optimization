{
 "cells": [
  {
   "cell_type": "markdown",
   "metadata": {},
   "source": [
    "# core\n",
    "\n",
    "> Fill in a module description here"
   ]
  },
  {
   "cell_type": "code",
   "execution_count": null,
   "metadata": {},
   "outputs": [],
   "source": [
    "#| default_exp integer_funs"
   ]
  },
  {
   "cell_type": "code",
   "execution_count": null,
   "metadata": {},
   "outputs": [
    {
     "name": "stdout",
     "output_type": "stream",
     "text": [
      "The autoreload extension is already loaded. To reload it, use:\n",
      "  %reload_ext autoreload\n"
     ]
    }
   ],
   "source": [
    "#| hide\n",
    "%load_ext autoreload\n",
    "%autoreload 2\n",
    "from nbdev.showdoc import *"
   ]
  },
  {
   "cell_type": "code",
   "execution_count": null,
   "metadata": {},
   "outputs": [],
   "source": [
    "#| export\n",
    "import torch\n",
    "import torch.nn as nn\n",
    "import warnings\n",
    "from Scientist_Experiment_Optimization.benchmark_funs import BenchmarkFunction\n",
    "\n",
    "class IntegerBenchmarkFunction(BenchmarkFunction):\n",
    "    def __init__(self):\n",
    "        super().__init__()\n",
    "        # 要求必须每个值有取值范围。\n",
    "        self.lb: torch.Tensor = torch.zeros(self.dimension, dtype=torch.int32)\n",
    "        self.ub: torch.Tensor = torch.zeros(self.dimension, dtype=torch.int32)"
   ]
  },
  {
   "cell_type": "markdown",
   "metadata": {},
   "source": [
    "Here is an example. "
   ]
  },
  {
   "cell_type": "code",
   "execution_count": null,
   "metadata": {},
   "outputs": [],
   "source": [
    "#| exports\n",
    "class LargestSum(IntegerBenchmarkFunction):\n",
    "    \"\"\"整数规划问题，最小和问题。\"\"\"\n",
    "\n",
    "    def __init__(self, dimension: int = 30):\n",
    "        super().__init__()\n",
    "        self.dimension: int = dimension\n",
    "        self.lb: torch.Tensor = torch.zeros(self.dimension, dtype=torch.int32)\n",
    "        self.ub: torch.Tensor = torch.arange(self.dimension, dtype=torch.int32)+1\n",
    "        self.optinum: torch.Tensor = torch.zeros(self.dimension, dtype=torch.int32)\n",
    "        self.optival: float = 0\n",
    "\n",
    "    def forward(self, x: torch.Tensor) -> torch.Tensor:\n",
    "        return torch.sum(x, dim=1)"
   ]
  },
  {
   "cell_type": "code",
   "execution_count": null,
   "metadata": {},
   "outputs": [],
   "source": [
    "#| hide\n",
    "import nbdev; nbdev.nbdev_export()"
   ]
  },
  {
   "cell_type": "code",
   "execution_count": null,
   "metadata": {},
   "outputs": [
    {
     "data": {
      "text/plain": [
       "tensor([30.])"
      ]
     },
     "execution_count": null,
     "metadata": {},
     "output_type": "execute_result"
    }
   ],
   "source": [
    "from Scientist_Experiment_Optimization import integer_funs\n",
    "import torch\n",
    "a = integer_funs.LargestSum()\n",
    "a( torch.ones(1, a.dimension) )"
   ]
  },
  {
   "cell_type": "code",
   "execution_count": null,
   "metadata": {},
   "outputs": [],
   "source": [
    "#| hide\n",
    "import nbdev; nbdev.nbdev_export()"
   ]
  }
 ],
 "metadata": {
  "kernelspec": {
   "display_name": "python3",
   "language": "python",
   "name": "python3"
  }
 },
 "nbformat": 4,
 "nbformat_minor": 4
}
