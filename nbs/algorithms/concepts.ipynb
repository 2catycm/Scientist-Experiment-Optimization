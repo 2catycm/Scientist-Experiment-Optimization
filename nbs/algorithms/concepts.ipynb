{
 "cells": [
  {
   "cell_type": "markdown",
   "metadata": {},
   "source": [
    "# Abstraction of Optimization Algorithms\n",
    "\n",
    "> Fill in a module description here"
   ]
  },
  {
   "cell_type": "code",
   "execution_count": 1,
   "metadata": {},
   "outputs": [],
   "source": [
    "#| default_exp algorithms.concepts"
   ]
  },
  {
   "cell_type": "code",
   "execution_count": 2,
   "metadata": {},
   "outputs": [],
   "source": [
    "#| hide\n",
    "%load_ext autoreload\n",
    "%autoreload 2\n",
    "from nbdev.showdoc import *"
   ]
  },
  {
   "cell_type": "code",
   "execution_count": 3,
   "metadata": {},
   "outputs": [],
   "source": [
    "#| export\n",
    "from typing import Tuple, Union\n",
    "import torch\n",
    "import torch.nn as nn\n",
    "import warnings\n",
    "from Scientist_Experiment_Optimization.objectives import benchmark_funs\n",
    "\n",
    "# 演化算法\n",
    "class EvolvingAlgorithm(nn.Module):\n",
    "    \"\"\"Some Information about EvolvingAlgorithm\"\"\"\n",
    "\n",
    "    def __init__(self, problem: benchmark_funs.BenchmarkFunction):\n",
    "        \"\"\"生成一个进化算法。\n",
    "        Args:\n",
    "            problem (benchmark_funs.BenchmarkFunction): 演化算子需要知道问题的维度和上下界，才能针对性计算。比如上下界越大，显然生成的初始种群的范围要大一些。\n",
    "        \"\"\"\n",
    "        super().__init__()\n",
    "        self.name: str = self.__class__.__name__\n",
    "        self.description: str = self.__class__.__doc__ or \"No description\"\n",
    "        self._device_test = nn.Parameter(torch.rand(1))  # 用于测试device\n",
    "        self.problem: benchmark_funs.BenchmarkFunction = problem  # 问题\n",
    "\n",
    "\n",
    "    def forward(self, hh:torch.Tensor) -> Tuple[torch.Tensor, torch.Tensor]:\n",
    "        \"\"\"抽象的进化算法，子类必须实现这个函数。\n",
    "            从hh中解析出演化算法的超参数，然后重新从problem开始，进行演化。\n",
    "        Args:\n",
    "            hh (torch.Tensor): 进化的策略。维度应该为(hyper_hyper_dimension)。\n",
    "        Returns:\n",
    "            torch.Tensor: 最优个体。\n",
    "            torch.Tensor: 最优适应度下降曲线。\n",
    "        \"\"\"\n",
    "        raise Exception(\"警告：调用了抽象函数。\")\n",
    "\n",
    "\n",
    "    def get_device(self) -> torch.device:\n",
    "        return self._device_test.device\n",
    "    \n",
    "    def __str__(self) -> str:\n",
    "        return f\"{super().__str__()}{self.name}:({self.__dir__()})\""
   ]
  },
  {
   "cell_type": "code",
   "execution_count": null,
   "metadata": {},
   "outputs": [],
   "source": []
  },
  {
   "cell_type": "code",
   "execution_count": 4,
   "metadata": {},
   "outputs": [],
   "source": [
    "#| hide\n",
    "import nbdev; nbdev.nbdev_export()"
   ]
  }
 ],
 "metadata": {
  "kernelspec": {
   "display_name": "python3",
   "language": "python",
   "name": "python3"
  },
  "language_info": {
   "codemirror_mode": {
    "name": "ipython",
    "version": 3
   },
   "file_extension": ".py",
   "mimetype": "text/x-python",
   "name": "python",
   "nbconvert_exporter": "python",
   "pygments_lexer": "ipython3",
   "version": "3.10.14"
  }
 },
 "nbformat": 4,
 "nbformat_minor": 4
}
